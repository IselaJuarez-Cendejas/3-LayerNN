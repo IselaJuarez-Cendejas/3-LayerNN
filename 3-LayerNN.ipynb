{
  "nbformat": 4,
  "nbformat_minor": 0,
  "metadata": {
    "colab": {
      "provenance": []
    },
    "kernelspec": {
      "name": "python3",
      "display_name": "Python 3"
    },
    "language_info": {
      "name": "python"
    }
  },
  "cells": [
    {
      "cell_type": "markdown",
      "source": [
        "## Run the following code to download the MNIST dataset (For numpy based task)\n"
      ],
      "metadata": {
        "id": "AFDo_kFWtYgr"
      }
    },
    {
      "cell_type": "markdown",
      "source": [],
      "metadata": {
        "id": "L7LKlM2zEBR9"
      }
    },
    {
      "cell_type": "code",
      "execution_count": null,
      "metadata": {
        "colab": {
          "base_uri": "https://localhost:8080/"
        },
        "id": "ITMOkIvdnyde",
        "outputId": "8a4610d8-cbcc-4e72-f89a-8ce7b35a5d4c"
      },
      "outputs": [
        {
          "output_type": "stream",
          "name": "stdout",
          "text": [
            "Downloading train-images-idx3-ubyte.gz...\n",
            "Downloading t10k-images-idx3-ubyte.gz...\n",
            "Downloading train-labels-idx1-ubyte.gz...\n",
            "Downloading t10k-labels-idx1-ubyte.gz...\n",
            "Download complete.\n",
            "Save complete.\n"
          ]
        }
      ],
      "source": [
        "import numpy as np\n",
        "from urllib import request\n",
        "import gzip\n",
        "import pickle\n",
        "\n",
        "filename = [\n",
        "[\"training_images\",\"train-images-idx3-ubyte.gz\"],\n",
        "[\"test_images\",\"t10k-images-idx3-ubyte.gz\"],\n",
        "[\"training_labels\",\"train-labels-idx1-ubyte.gz\"],\n",
        "[\"test_labels\",\"t10k-labels-idx1-ubyte.gz\"]\n",
        "]\n",
        "\n",
        "def download_mnist():\n",
        "    base_url = \"http://yann.lecun.com/exdb/mnist/\"\n",
        "    for name in filename:\n",
        "        print(\"Downloading \"+name[1]+\"...\")\n",
        "        request.urlretrieve(base_url+name[1], name[1])\n",
        "    print(\"Download complete.\")\n",
        "\n",
        "def save_mnist():\n",
        "    mnist = {}\n",
        "    for name in filename[:2]:\n",
        "        with gzip.open(name[1], 'rb') as f:\n",
        "            mnist[name[0]] = np.frombuffer(f.read(), np.uint8, offset=16).reshape(-1,28*28)\n",
        "    for name in filename[-2:]:\n",
        "        with gzip.open(name[1], 'rb') as f:\n",
        "            mnist[name[0]] = np.frombuffer(f.read(), np.uint8, offset=8)\n",
        "    with open(\"mnist.pkl\", 'wb') as f:\n",
        "        pickle.dump(mnist,f)\n",
        "    print(\"Save complete.\")\n",
        "\n",
        "def init():\n",
        "    download_mnist()\n",
        "    save_mnist()\n",
        "#    print ((load()[0]).shape)\n",
        "def load():\n",
        "    with open(\"mnist.pkl\",'rb') as f:\n",
        "        mnist = pickle.load(f)\n",
        "    return mnist[\"training_images\"], mnist[\"training_labels\"], mnist[\"test_images\"], mnist[\"test_labels\"]\n",
        "\n",
        "if __name__ == '__main__':\n",
        "    init()"
      ]
    },
    {
      "cell_type": "markdown",
      "source": [
        "## A2 The load() function will return the training and test dataset"
      ],
      "metadata": {
        "id": "KnuEMkWdtXc6"
      }
    },
    {
      "cell_type": "code",
      "source": [
        "import numpy as np\n",
        "from urllib import request\n",
        "import gzip\n",
        "import math\n",
        "import pickle\n",
        "\n",
        "\n",
        "def grad_softmax_crossentropy(X, y):\n",
        "    m = y.shape[0]\n",
        "    ones_for_answers = np.zeros_like(X)\n",
        "    ones_for_answers[np.arange(len(X)), y] = 1\n",
        "\n",
        "    p = np.exp(X) / np.exp(X).sum(axis=-1, keepdims=True)\n",
        "    return (- ones_for_answers + p) / m\n",
        "\n",
        "def load():\n",
        "    with open(\"mnist.pkl\",'rb') as f:\n",
        "        mnist = pickle.load(f)\n",
        "\n",
        "        training_images, training_labels, testing_images, testing_labels = mnist[\"training_images\"], mnist[\"training_labels\"], mnist[\"test_images\"], mnist[\"test_labels\"]\n",
        "        # Normalize the images\n",
        "        training_images.astype('float32')\n",
        "        testing_images.astype('float32')\n",
        "        training_images = training_images / 255\n",
        "        testing_images = testing_images / 255\n",
        "        return training_images, training_labels, testing_images, testing_labels\n",
        "\n",
        "'''==============================================\n",
        "TRimg training image,\n",
        "TRlab traing labels,\n",
        "TSimg testing image,\n",
        "TSlab testing label\n",
        "================================================'''\n",
        "TRimg,TRlab,TSimg,TSlab=load()\n",
        "print(len(TRimg),len(TRlab),len(TSimg),len(TSlab))\n",
        "print(len(TRimg[0]),len(TRlab),len(TSimg[0]),len(TSlab))\n",
        "\n",
        "arr_2d = np. reshape(TRimg[0], (28, 28))"
      ],
      "metadata": {
        "colab": {
          "base_uri": "https://localhost:8080/"
        },
        "id": "PoWNw2yFoOP3",
        "outputId": "e0d2cb2d-9b67-41fb-c51d-2f124fbd1fd5"
      },
      "execution_count": null,
      "outputs": [
        {
          "output_type": "stream",
          "name": "stdout",
          "text": [
            "60000 60000 10000 10000\n",
            "784 60000 784 10000\n"
          ]
        }
      ]
    },
    {
      "cell_type": "code",
      "source": [
        "print(TRimg.shape)\n",
        "Batch=TRimg[0:32]\n",
        "print(Batch.shape)"
      ],
      "metadata": {
        "colab": {
          "base_uri": "https://localhost:8080/"
        },
        "id": "2EyBhVkAripJ",
        "outputId": "56c0ead2-188d-4555-f36d-061a57c63711"
      },
      "execution_count": null,
      "outputs": [
        {
          "output_type": "stream",
          "name": "stdout",
          "text": [
            "(60000, 784)\n",
            "(32, 784)\n"
          ]
        }
      ]
    },
    {
      "cell_type": "markdown",
      "source": [
        "## Run the following code to see what the data looks like."
      ],
      "metadata": {
        "id": "j8F879VhtwVX"
      }
    },
    {
      "cell_type": "code",
      "source": [
        "import matplotlib.pyplot as plt\n",
        "import numpy as np\n",
        "from matplotlib.colors import LogNorm\n",
        "\n",
        "showInd=66\n",
        "Column=np.reshape(TRimg[showInd], (784, 1))\n",
        "arr_2d = np.reshape(TRimg[showInd], (28, 28))\n",
        "arr_2dT=np.rot90(arr_2d)\n",
        "arr_2dTA=np.rot90(arr_2dT)\n",
        "Final=np.fliplr(arr_2dTA)\n",
        "#arr_2dTA=np.transpose(arr_2dT)\n",
        "#arr_2dTB=np.transpose(arr_2dTA)\n",
        "plt.pcolor(Final)\n",
        "print(TRlab[showInd])\n",
        "plt.show()\n",
        "\n",
        "plt.pcolor(Column)\n",
        "plt.show()\n",
        "\n",
        "#pcm = plt.pcolormesh(arr_2d,cmap='RdBu_r')\n",
        "#plt.colorbar(pcm)\n",
        "#plt.show()"
      ],
      "metadata": {
        "id": "x1JRTuxiwqVa",
        "colab": {
          "base_uri": "https://localhost:8080/",
          "height": 860
        },
        "outputId": "5bbe60d1-c320-4386-96f8-8aeda17f69a4"
      },
      "execution_count": null,
      "outputs": [
        {
          "output_type": "stream",
          "name": "stdout",
          "text": [
            "6\n"
          ]
        },
        {
          "output_type": "display_data",
          "data": {
            "text/plain": [
              "<Figure size 640x480 with 1 Axes>"
            ],
            "image/png": "[encoded data removed]"
          },
          "metadata": {}
        },
        {
          "output_type": "display_data",
          "data": {
            "text/plain": [
              "<Figure size 640x480 with 1 Axes>"
            ],
            "image/png": "[encoded data removed]"
          },
          "metadata": {}
        }
      ]
    },
    {
      "cell_type": "markdown",
      "source": [
        "# Designing the 3-layer neural network:\n",
        "\n",
        "## Model structure\n",
        "\n",
        "2 hidden layers:\n",
        "\n",
        "- 200 neurons in the first hidden layer (connected to the input layer).\n",
        "\n",
        "- 50 neurons in the second hidden layer (connected to the output layer).\n",
        "\n",
        "## Pay attention to \"epoch\" & \"batch size\".\n",
        "\n",
        "\n",
        "We will need to divide the data into small groups (batch). Every time we can only process one group.\n"
      ],
      "metadata": {
        "id": "inb3Fy0FEWld"
      }
    },
    {
      "cell_type": "markdown",
      "source": [
        "# ------------------ Model Design --------------------\n",
        "## Based on my knowledge of a 2-layer network, for a 3-layer network I am going to use to following model:\n",
        "## softmax(Relu(Relu(y=x*w+b) * w2 + b2) * w3 + b3)"
      ],
      "metadata": {
        "id": "TF8rAVISVi92"
      }
    },
    {
      "cell_type": "code",
      "source": [
        "X_train, y_train, X_test, y_test = load() # Loading data\n",
        "# preprocess some of the data\n",
        "y_train = np.eye(10)[y_train]\n",
        "y_test = np.eye(10)[y_test]\n",
        "\n",
        "# Using the model above, I am going to first initialize\n",
        "# the parameters:\n",
        "#X= ----> 2-d array\n",
        "#Y= ----> 1-d array\n",
        "D= X_train.shape[1] #----> number of inputs\n",
        "#print(D)\n",
        "K= y_train.shape[1] #----> number of outputs\n",
        "#print(K)\n",
        "hidden1=200 # ----> number of hidden layers in first layer\n",
        "hidden2=50 # ----> number of hidden layers in second layer\n",
        "\n",
        "W1 = 0.01 * np.random.randn(D, hidden1)\n",
        "b1 = np.zeros((1, hidden1))\n",
        "W2 = 0.01 * np.random.randn(hidden1, hidden2)\n",
        "b2 = np.zeros((1, hidden2))\n",
        "W3 = 0.01 * np.random.randn(hidden2, K)\n",
        "b3 = np.zeros((1, K))\n"
      ],
      "metadata": {
        "id": "PjtkVpyLm_yt"
      },
      "execution_count": null,
      "outputs": []
    },
    {
      "cell_type": "markdown",
      "source": [
        "# ------------------ Training Model --------------------"
      ],
      "metadata": {
        "id": "BLM6rZcJH3WQ"
      }
    },
    {
      "cell_type": "code",
      "source": [
        "# Training the model\n",
        "# Setting the hyperparameters\n",
        "step_size = 1e-1\n",
        "reg = 1e-3\n",
        "num_examples = X_train.shape[0]\n",
        "batch_size = 256  # increased batch size\n",
        "num_epochs = 10\n",
        "num_batches = num_examples // batch_size\n",
        "\n",
        "for epoch in range(num_epochs):\n",
        "    for batch in range(num_batches):\n",
        "        # Getting the Batch(s)\n",
        "        start_idx = batch * batch_size\n",
        "        end_idx = (batch + 1) * batch_size\n",
        "        X_batch = X_train[start_idx:end_idx]\n",
        "        y_batch = y_train[start_idx:end_idx]\n",
        "\n",
        "        # Forward propagation\n",
        "        h1 = np.dot(X_batch, W1) + b1\n",
        "        h2 = np.maximum(0, h1)\n",
        "        h3 = np.dot(h2, W2) + b2\n",
        "        h4 = np.maximum(0, h3)\n",
        "        h5 = np.dot(h4, W3) + b3\n",
        "        exp_scores = np.exp(h5)\n",
        "        s = exp_scores / np.sum(exp_scores, axis=1, keepdims=True)\n",
        "\n",
        "        # Loss Computation\n",
        "        l1_all = -np.log(s[range(batch_size), np.argmax(y_batch, axis=1)])\n",
        "        l1 = np.sum(l1_all) / batch_size\n",
        "        l2 = np.sum(W1*W1) + np.sum(W2*W2) + np.sum(W3*W3)\n",
        "        l3 = reg * l2\n",
        "        loss = l1 + l3\n",
        "\n",
        "        # Backpropagation\n",
        "        s[range(batch_size), np.argmax(y_batch, axis=1)] -= 1\n",
        "        ds = s / batch_size\n",
        "        dh5 = ds\n",
        "        db3 = np.sum(dh5, axis=0, keepdims=True)\n",
        "        dW3 = np.dot(h4.T, dh5)\n",
        "        dh4 = np.dot(dh5, W3.T)\n",
        "        dh3 = dh4\n",
        "        dh3[h3 <= 0] = 0\n",
        "        db2 = np.sum(dh3, axis=0, keepdims=True)\n",
        "        dW2 = np.dot(h2.T, dh3)\n",
        "        dh2 = np.dot(dh3, W2.T)\n",
        "        dh1 = dh2\n",
        "        dh1[h1 <= 0] = 0\n",
        "        db1 = np.sum(dh1, axis=0, keepdims=True)\n",
        "        dW1 = np.dot(X_batch.T, dh1)\n",
        "\n",
        "        # Regularization addition\n",
        "        dW1 += 2 * reg * W1\n",
        "        dW2 += 2 * reg * W2\n",
        "        dW3 += 2 * reg * W3\n",
        "\n",
        "        # Updating parameters\n",
        "        W1 += -step_size * dW1\n",
        "        b1 += -step_size * db1\n",
        "        W2 += -step_size * dW2\n",
        "        b2 += -step_size * db2\n",
        "        W3 += -step_size * dW3\n",
        "        b3 += -step_size * db3\n",
        "\n",
        "    # Printing the loss after each Epoch\n",
        "    print(\"Epoch {}: loss {}\".format(epoch+1, loss))"
      ],
      "metadata": {
        "id": "0iFlmx7dFwlW",
        "colab": {
          "base_uri": "https://localhost:8080/"
        },
        "outputId": "e5d3ae18-44b3-498a-dc71-22c15c71f65a"
      },
      "execution_count": null,
      "outputs": [
        {
          "output_type": "stream",
          "name": "stdout",
          "text": [
            "Epoch 1: loss 0.23988627559345696\n",
            "Epoch 2: loss 0.23844566864852315\n",
            "Epoch 3: loss 0.23704500188460015\n",
            "Epoch 4: loss 0.23572305021775797\n",
            "Epoch 5: loss 0.23432536943758803\n",
            "Epoch 6: loss 0.23292625407460615\n",
            "Epoch 7: loss 0.23191692979945477\n",
            "Epoch 8: loss 0.23107783526023096\n",
            "Epoch 9: loss 0.23014116473280566\n",
            "Epoch 10: loss 0.22930636863364573\n"
          ]
        }
      ]
    },
    {
      "cell_type": "markdown",
      "source": [
        "# ------------------ Testing Model --------------------"
      ],
      "metadata": {
        "id": "Np0JCNHHIJ0K"
      }
    },
    {
      "cell_type": "code",
      "source": [
        "# testing\n",
        "h1 = np.dot(X_train, W1) + b1\n",
        "h2 = np.maximum(0, h1)\n",
        "h3 = np.dot(h2, W2) + b2\n",
        "h4 = np.maximum(0, h3)\n",
        "h5 = np.dot(h4, W3) + b3\n",
        "exp_scores = np.exp(h5)\n",
        "s = exp_scores / np.sum(exp_scores, axis=1, keepdims=True)\n",
        "predicted_class = np.argmax(s, axis=1)\n",
        "# Training accuracy test:\n",
        "accuracy = np.mean(predicted_class == np.argmax(y_train, axis=1))\n",
        "print(\"Training accuracy after epoch {}: {}\".format(epoch+1, accuracy))"
      ],
      "metadata": {
        "id": "C8EXA67BFyP-",
        "colab": {
          "base_uri": "https://localhost:8080/"
        },
        "outputId": "e3a0fef1-c5e3-46e8-e154-e98ebcefcf8f"
      },
      "execution_count": null,
      "outputs": [
        {
          "output_type": "stream",
          "name": "stdout",
          "text": [
            "Training accuracy after epoch 10: 0.9811833333333333\n"
          ]
        }
      ]
    },
    {
      "cell_type": "code",
      "source": [
        "# Testing\n",
        "import random\n",
        "h1 = np.dot(TRimg, W1) + b1\n",
        "h2 = np.maximum(0, h1)\n",
        "h3 = np.dot(h2, W2) + b2\n",
        "h4 = np.maximum(0, h3)\n",
        "h5 = np.dot(h4, W3) + b3\n",
        "predicted_classes = np.argmax(h5, axis=1)\n",
        "\n",
        "# Printing the predicted classes and some images\n",
        "# to classify.\n",
        "# print(predicted_classes)\n",
        "num_samples = 10\n",
        "indices = random.sample(range(TRimg.shape[0]), num_samples)\n",
        "for i in indices:\n",
        "    image = TRimg[i].reshape(28, 28)\n",
        "    predicted_class = predicted_classes[i]\n",
        "    print(f\"Predicted class: {predicted_class}\")\n",
        "    plt.imshow(image, cmap='gray')\n",
        "    plt.show()"
      ],
      "metadata": {
        "id": "QMPFV5bT09TS",
        "colab": {
          "base_uri": "https://localhost:8080/",
          "height": 1000
        },
        "outputId": "09bcec78-b1d8-436b-8252-fe715b55895b"
      },
      "execution_count": null,
      "outputs": [
        {
          "output_type": "stream",
          "name": "stdout",
          "text": [
            "Predicted class: 6\n"
          ]
        },
        {
          "output_type": "display_data",
          "data": {
            "text/plain": [
              "<Figure size 640x480 with 1 Axes>"
            ],
            "image/png": "[encoded data removed]"
          },
          "metadata": {}
        },
        {
          "output_type": "stream",
          "name": "stdout",
          "text": [
            "Predicted class: 3\n"
          ]
        },
        {
          "output_type": "display_data",
          "data": {
            "text/plain": [
              "<Figure size 640x480 with 1 Axes>"
            ],
            "image/png": "[encoded data removed]"
          },
          "metadata": {}
        },
        {
          "output_type": "stream",
          "name": "stdout",
          "text": [
            "Predicted class: 9\n"
          ]
        },
        {
          "output_type": "display_data",
          "data": {
            "text/plain": [
              "<Figure size 640x480 with 1 Axes>"
            ],
            "image/png": "[encoded data removed]"
          },
          "metadata": {}
        },
        {
          "output_type": "stream",
          "name": "stdout",
          "text": [
            "Predicted class: 6\n"
          ]
        },
        {
          "output_type": "display_data",
          "data": {
            "text/plain": [
              "<Figure size 640x480 with 1 Axes>"
            ],
            "image/png": "[encoded data removed]"
          },
          "metadata": {}
        },
        {
          "output_type": "stream",
          "name": "stdout",
          "text": [
            "Predicted class: 4\n"
          ]
        },
        {
          "output_type": "display_data",
          "data": {
            "text/plain": [
              "<Figure size 640x480 with 1 Axes>"
            ],
            "image/png": "[encoded data removed]"
          },
          "metadata": {}
        },
        {
          "output_type": "stream",
          "name": "stdout",
          "text": [
            "Predicted class: 6\n"
          ]
        },
        {
          "output_type": "display_data",
          "data": {
            "text/plain": [
              "<Figure size 640x480 with 1 Axes>"
            ],
            "image/png": "[encoded data removed]"
          },
          "metadata": {}
        },
        {
          "output_type": "stream",
          "name": "stdout",
          "text": [
            "Predicted class: 2\n"
          ]
        },
        {
          "output_type": "display_data",
          "data": {
            "text/plain": [
              "<Figure size 640x480 with 1 Axes>"
            ],
            "image/png": "[encoded data removed]"
          },
          "metadata": {}
        },
        {
          "output_type": "stream",
          "name": "stdout",
          "text": [
            "Predicted class: 1\n"
          ]
        },
        {
          "output_type": "display_data",
          "data": {
            "text/plain": [
              "<Figure size 640x480 with 1 Axes>"
            ],
            "image/png": "[encoded data removed]"
          },
          "metadata": {}
        },
        {
          "output_type": "stream",
          "name": "stdout",
          "text": [
            "Predicted class: 2\n"
          ]
        },
        {
          "output_type": "display_data",
          "data": {
            "text/plain": [
              "<Figure size 640x480 with 1 Axes>"
            ],
            "image/png": "[encoded data removed]"
          },
          "metadata": {}
        },
        {
          "output_type": "stream",
          "name": "stdout",
          "text": [
            "Predicted class: 9\n"
          ]
        },
        {
          "output_type": "display_data",
          "data": {
            "text/plain": [
              "<Figure size 640x480 with 1 Axes>"
            ],
            "image/png": "[encoded data removed]"
          },
          "metadata": {}
        }
      ]
    },
    {
      "cell_type": "code",
      "source": [],
      "metadata": {
        "id": "LQcWxLGS0CNj"
      },
      "execution_count": null,
      "outputs": []
    },
    {
      "cell_type": "markdown",
      "source": [
        "## Author\n",
        "-> Isela Juarez-Cendejas <-"
      ],
      "metadata": {
        "id": "GDPnSF4U0Dzf"
      }
    }
  ]
}